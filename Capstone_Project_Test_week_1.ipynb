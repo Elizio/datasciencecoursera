{
  "nbformat": 4,
  "nbformat_minor": 0,
  "metadata": {
    "colab": {
      "name": "Capstone Project - Test week 1",
      "provenance": [],
      "collapsed_sections": []
    },
    "kernelspec": {
      "name": "python3",
      "display_name": "Python 3"
    },
    "language_info": {
      "name": "python"
    }
  },
  "cells": [
    {
      "cell_type": "markdown",
      "metadata": {
        "id": "-hgepA1WWPJw"
      },
      "source": [
        "# Capstone Project - The Battle of Neighborhoods (Week 1)"
      ]
    },
    {
      "cell_type": "markdown",
      "metadata": {
        "id": "If-PuFDJfdTY"
      },
      "source": [
        "## A description of the problem and a discussion of the background\n",
        "\n",
        "In a hypothetical scenario, I'm a business man that needs to travel a lot. Every trip I do, I spent around one month in the city, so, for me is very important to be in a neighborhood with diversity of venues and also the venues should be highly rated.\n",
        "\n",
        "<font color='blue'>My next trip is to San Francisco, in which neighborhood should I stay?</font>\n",
        "\n",
        "**Notes:**\n",
        "- I spend all day out of the hotel, so, the hotel is not a big issue;\n",
        "- As I said, I'm travelling on business, so, the hotel cost is not a concern also;\n",
        "- What I need is to be in a region that maximize the chances of having anything that I could need."
      ]
    },
    {
      "cell_type": "markdown",
      "metadata": {
        "id": "_r3DErw_i3d4"
      },
      "source": [
        "## A description of the data and how it will be used to solve the problem.\n",
        "\n",
        "Data request:\n",
        "1. List of neighborhoods of San Francisco\n",
        "2. List of venues of each neighborhood\n",
        "3. Rating of each venue\n",
        "\n",
        "Approach:\n",
        "- Step 1:\n",
        "After collect the data, understand the connections and relations among them. It should be San Francisco has neighborhoods > Neighborhoods have venues > venues have rating\n",
        "- Step 2:\n",
        "Create an analytical dataset connecting the data as it was described on step 1\n",
        "- Step 3:\n",
        "Do an exploratory analysis on all data\n",
        "- Step 4:\n",
        "Calcule the **KPI** 'Diversity & Rating of Venues per Neighborhood'.\n",
        "> (count of unique category of venues per neighborhood X average rating of the same category of venue)\n",
        "- Step 5:\n",
        "Plot on map the 5 highest neighborhood by the KPI"
      ]
    },
    {
      "cell_type": "code",
      "metadata": {
        "id": "IshsrYjhVxBM"
      },
      "source": [
        ""
      ],
      "execution_count": null,
      "outputs": []
    }
  ]
}